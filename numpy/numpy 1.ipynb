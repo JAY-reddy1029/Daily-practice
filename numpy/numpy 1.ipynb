{
 "cells": [
  {
   "cell_type": "code",
   "execution_count": 1,
   "id": "137e559e-5765-4472-9b49-d8d74233ae14",
   "metadata": {},
   "outputs": [
    {
     "data": {
      "text/plain": [
       "'3.12.7 | packaged by Anaconda, Inc. | (main, Oct  4 2024, 13:17:27) [MSC v.1929 64 bit (AMD64)]'"
      ]
     },
     "execution_count": 1,
     "metadata": {},
     "output_type": "execute_result"
    }
   ],
   "source": [
    "import sys\n",
    "sys.version"
   ]
  },
  {
   "cell_type": "code",
   "execution_count": 2,
   "id": "ea7a6e99-5956-47ac-bfbb-88037d4097e9",
   "metadata": {},
   "outputs": [],
   "source": [
    "import numpy as np"
   ]
  },
  {
   "cell_type": "code",
   "execution_count": 3,
   "id": "6e8727e5-2aa2-4b0a-9c13-b827eabb159e",
   "metadata": {},
   "outputs": [
    {
     "data": {
      "text/plain": [
       "'1.26.4'"
      ]
     },
     "execution_count": 3,
     "metadata": {},
     "output_type": "execute_result"
    }
   ],
   "source": [
    "np.__version__ # to check the version"
   ]
  },
  {
   "cell_type": "code",
   "execution_count": 4,
   "id": "ded4eb8b-d975-4c4b-99e7-ba83b967f07d",
   "metadata": {},
   "outputs": [],
   "source": [
    "# create a list"
   ]
  },
  {
   "cell_type": "code",
   "execution_count": 5,
   "id": "1e80dddd-c73e-4247-82e5-1928a90448e9",
   "metadata": {},
   "outputs": [
    {
     "data": {
      "text/plain": [
       "[0, 1, 2, 3, 4, 5]"
      ]
     },
     "execution_count": 5,
     "metadata": {},
     "output_type": "execute_result"
    }
   ],
   "source": [
    "my_list =[0,1,2,3,4,5]\n",
    "my_list"
   ]
  },
  {
   "cell_type": "code",
   "execution_count": 6,
   "id": "17469658-7a71-43b6-a5e7-c4bbc674aa4d",
   "metadata": {},
   "outputs": [
    {
     "data": {
      "text/plain": [
       "list"
      ]
     },
     "execution_count": 6,
     "metadata": {},
     "output_type": "execute_result"
    }
   ],
   "source": [
    "type(my_list)"
   ]
  },
  {
   "cell_type": "code",
   "execution_count": 7,
   "id": "53c9b11f-e666-473d-ad3d-7bf597c51ae0",
   "metadata": {},
   "outputs": [
    {
     "data": {
      "text/plain": [
       "array([0, 1, 2, 3, 4, 5])"
      ]
     },
     "execution_count": 7,
     "metadata": {},
     "output_type": "execute_result"
    }
   ],
   "source": [
    "arr = np.array(my_list)\n",
    "arr"
   ]
  },
  {
   "cell_type": "code",
   "execution_count": 8,
   "id": "cb914a26-0b16-45f3-949f-d82db6914c5f",
   "metadata": {},
   "outputs": [
    {
     "data": {
      "text/plain": [
       "numpy.ndarray"
      ]
     },
     "execution_count": 8,
     "metadata": {},
     "output_type": "execute_result"
    }
   ],
   "source": [
    "type(arr)"
   ]
  },
  {
   "cell_type": "code",
   "execution_count": 9,
   "id": "146fb35b-b2fc-4bb8-821b-2f034da7ca22",
   "metadata": {},
   "outputs": [
    {
     "data": {
      "text/plain": [
       "array([0, 1, 2, 3, 4, 5, 6, 7, 8, 9])"
      ]
     },
     "execution_count": 9,
     "metadata": {},
     "output_type": "execute_result"
    }
   ],
   "source": [
    "np.arange(10)"
   ]
  },
  {
   "cell_type": "code",
   "execution_count": 10,
   "id": "5fd147f9-385f-427e-9bd8-662e84e23370",
   "metadata": {},
   "outputs": [
    {
     "data": {
      "text/plain": [
       "array([10, 11, 12, 13, 14, 15, 16, 17, 18, 19])"
      ]
     },
     "execution_count": 10,
     "metadata": {},
     "output_type": "execute_result"
    }
   ],
   "source": [
    "np.arange(10,20)"
   ]
  },
  {
   "cell_type": "code",
   "execution_count": 11,
   "id": "66dfc9a6-5aeb-4ca4-b1ad-a8eb5bc97d27",
   "metadata": {},
   "outputs": [
    {
     "data": {
      "text/plain": [
       "array([10, 15, 20, 25, 30, 35, 40, 45])"
      ]
     },
     "execution_count": 11,
     "metadata": {},
     "output_type": "execute_result"
    }
   ],
   "source": [
    "np.arange(10,50,5)"
   ]
  },
  {
   "cell_type": "code",
   "execution_count": 12,
   "id": "24e4df32-bba3-4634-b7d7-c40279f96e10",
   "metadata": {},
   "outputs": [
    {
     "data": {
      "text/plain": [
       "array([10, 13, 16, 19, 22, 25, 28])"
      ]
     },
     "execution_count": 12,
     "metadata": {},
     "output_type": "execute_result"
    }
   ],
   "source": [
    "np.arange(10,30,3)"
   ]
  },
  {
   "cell_type": "code",
   "execution_count": 13,
   "id": "d0e6140e-c1e2-4321-a2e5-2f88d0d573cc",
   "metadata": {},
   "outputs": [
    {
     "ename": "TypeError",
     "evalue": "Cannot interpret '3' as a data type",
     "output_type": "error",
     "traceback": [
      "\u001b[1;31m---------------------------------------------------------------------------\u001b[0m",
      "\u001b[1;31mTypeError\u001b[0m                                 Traceback (most recent call last)",
      "Cell \u001b[1;32mIn[13], line 1\u001b[0m\n\u001b[1;32m----> 1\u001b[0m np\u001b[38;5;241m.\u001b[39marange(\u001b[38;5;241m10\u001b[39m,\u001b[38;5;241m30\u001b[39m,\u001b[38;5;241m30\u001b[39m,\u001b[38;5;241m3\u001b[39m)\n",
      "\u001b[1;31mTypeError\u001b[0m: Cannot interpret '3' as a data type"
     ]
    }
   ],
   "source": [
    "np.arange(10,30,30,3)# it only has start stop and step"
   ]
  },
  {
   "cell_type": "code",
   "execution_count": 14,
   "id": "a0435b22-751e-4a2a-96dc-2b99610deb99",
   "metadata": {},
   "outputs": [
    {
     "data": {
      "text/plain": [
       "array([], dtype=int32)"
      ]
     },
     "execution_count": 14,
     "metadata": {},
     "output_type": "execute_result"
    }
   ],
   "source": [
    "np.arange(20,10) #1sr argument should be less than 2nd aurgument"
   ]
  },
  {
   "cell_type": "code",
   "execution_count": null,
   "id": "da1d5a49-c969-43c6-81dd-40698c4cce5e",
   "metadata": {},
   "outputs": [],
   "source": [
    "np.arange(-20,8)"
   ]
  },
  {
   "cell_type": "code",
   "execution_count": null,
   "id": "c8d8aff0-98e3-4a37-9daf-4e64ab6b4a02",
   "metadata": {},
   "outputs": [],
   "source": [
    "n = np.arange(-20,8)"
   ]
  },
  {
   "cell_type": "code",
   "execution_count": null,
   "id": "fceb2fbe-03af-4da1-8bf0-9e5076bd0555",
   "metadata": {},
   "outputs": [],
   "source": [
    "np.zeros()"
   ]
  },
  {
   "cell_type": "code",
   "execution_count": null,
   "id": "944c7430-7548-4212-993c-9b4de53b6352",
   "metadata": {},
   "outputs": [],
   "source": [
    "np.zeros(3)"
   ]
  },
  {
   "cell_type": "code",
   "execution_count": null,
   "id": "e3a7324f-382c-4996-8f65-761ce4c36baa",
   "metadata": {},
   "outputs": [],
   "source": [
    "np.zeros(3, dtype=int)"
   ]
  },
  {
   "cell_type": "code",
   "execution_count": null,
   "id": "4d156aa6-5f73-4aa4-b557-232a2b0babe5",
   "metadata": {},
   "outputs": [],
   "source": [
    "z=np.zeros(3)\n",
    "z"
   ]
  },
  {
   "cell_type": "code",
   "execution_count": null,
   "id": "6452eea8-bb9a-43cc-8045-89b61ef3ea8a",
   "metadata": {},
   "outputs": [],
   "source": [
    "np.zeros((2,2)) # 2d array"
   ]
  },
  {
   "cell_type": "code",
   "execution_count": null,
   "id": "b55bc804-4cfe-499e-86f4-25f3cda5e34a",
   "metadata": {},
   "outputs": [],
   "source": [
    "np.zeros((3,3), dtype=int) # 3d matrix"
   ]
  },
  {
   "cell_type": "code",
   "execution_count": null,
   "id": "fe6d3a5c-268f-4b02-bc37-e62ffe75c038",
   "metadata": {},
   "outputs": [],
   "source": [
    "nd=np.zeros((5,9), dtype=int) # n dimensions matrix\n",
    "nd"
   ]
  },
  {
   "cell_type": "code",
   "execution_count": null,
   "id": "3b647163-82e8-4bf1-ba19-7f3c20f828a9",
   "metadata": {},
   "outputs": [],
   "source": [
    "np.ones(3)"
   ]
  },
  {
   "cell_type": "code",
   "execution_count": null,
   "id": "d1293925-92ca-4c33-8ecf-df7246c06fab",
   "metadata": {},
   "outputs": [],
   "source": [
    "np.ones((10,10), dtype=int)"
   ]
  },
  {
   "cell_type": "code",
   "execution_count": null,
   "id": "e64debcb-c865-4d89-b2a9-65120edc898d",
   "metadata": {},
   "outputs": [],
   "source": [
    "np.threes(3) #3 is not function of np"
   ]
  },
  {
   "cell_type": "code",
   "execution_count": null,
   "id": "237b2c3b-8975-4beb-a0e8-5910acd6271c",
   "metadata": {},
   "outputs": [],
   "source": [
    "nd"
   ]
  },
  {
   "cell_type": "code",
   "execution_count": null,
   "id": "d1b79239-59b3-4831-b804-1454aa2bcd24",
   "metadata": {},
   "outputs": [],
   "source": [
    "rand(3,2)"
   ]
  },
  {
   "cell_type": "code",
   "execution_count": null,
   "id": "7b2b1789-aa0b-42e6-99ef-0d228dca05f2",
   "metadata": {},
   "outputs": [],
   "source": [
    "random.rand(3,2)"
   ]
  },
  {
   "cell_type": "code",
   "execution_count": null,
   "id": "8c557429-00c0-4891-9917-3a33efecaab3",
   "metadata": {},
   "outputs": [],
   "source": [
    "np.random.rand(2) # generates float random num "
   ]
  },
  {
   "cell_type": "code",
   "execution_count": null,
   "id": "16d41260-f77a-49c8-9728-36ab6d528e6d",
   "metadata": {},
   "outputs": [],
   "source": [
    "np.random.rand(3)"
   ]
  },
  {
   "cell_type": "code",
   "execution_count": null,
   "id": "b99b59f2-9a68-4abe-b78a-29178dde827f",
   "metadata": {},
   "outputs": [],
   "source": [
    "np.random.rand(2,3)"
   ]
  },
  {
   "cell_type": "code",
   "execution_count": null,
   "id": "1abecab7-25ec-4ab9-8237-5a63f53e1b22",
   "metadata": {},
   "outputs": [],
   "source": [
    "np.random.randint(3)#generate randon num bw 0-2"
   ]
  },
  {
   "cell_type": "code",
   "execution_count": null,
   "id": "9de8495b-63ad-45ae-867f-e212d3774ed2",
   "metadata": {},
   "outputs": [],
   "source": [
    "np.random.randint(2,10)#generate randon num bw 2-9"
   ]
  },
  {
   "cell_type": "code",
   "execution_count": null,
   "id": "de220f09-ecb9-44f1-bdd5-a90ea047a895",
   "metadata": {},
   "outputs": [],
   "source": [
    "np.random.randint(2,10,3)#generate 3 randon num bw 2-9"
   ]
  },
  {
   "cell_type": "code",
   "execution_count": null,
   "id": "12979b21-da36-4784-9bdc-620c17d67b45",
   "metadata": {},
   "outputs": [],
   "source": [
    "np.random.randint(10,40,(10,10))# generate random num bw 10-39 with 10*10 matrix(rows and colums)"
   ]
  },
  {
   "cell_type": "code",
   "execution_count": null,
   "id": "7a271c75-e31b-4934-8d56-3cf83000a4d6",
   "metadata": {},
   "outputs": [],
   "source": [
    "m=np.random.randint(10,40,(10,10))   #store in m and run\n",
    "m"
   ]
  },
  {
   "cell_type": "code",
   "execution_count": null,
   "id": "6915881e-5a58-4c8f-b9ee-6644117786e1",
   "metadata": {},
   "outputs": [],
   "source": [
    "arr"
   ]
  },
  {
   "cell_type": "code",
   "execution_count": null,
   "id": "8d1d7320-8b0c-4eb6-9d7b-91688f39da7a",
   "metadata": {},
   "outputs": [],
   "source": [
    "arr.reshape(2,3) # reshapes and arranges in 2*3 matrix"
   ]
  },
  {
   "cell_type": "code",
   "execution_count": null,
   "id": "3b668ea6-68fa-4e7a-8bc7-97348e051788",
   "metadata": {},
   "outputs": [],
   "source": [
    "arr.reshape(3,3) "
   ]
  },
  {
   "cell_type": "code",
   "execution_count": null,
   "id": "2aa18821-1433-4995-a66a-1b5e129ae242",
   "metadata": {},
   "outputs": [],
   "source": [
    "arr.reshape(6,1)"
   ]
  },
  {
   "cell_type": "code",
   "execution_count": null,
   "id": "2ab37725-fc5e-46a1-a0f3-292a1c7320ee",
   "metadata": {},
   "outputs": [],
   "source": [
    "arr.reshape(1,6)"
   ]
  },
  {
   "cell_type": "code",
   "execution_count": null,
   "id": "63aa77cd-2bdb-4a5b-b4f2-d6dfe4c43969",
   "metadata": {},
   "outputs": [],
   "source": [
    "b= np.random.randint(10,20,(5,4))\n",
    "b"
   ]
  },
  {
   "cell_type": "code",
   "execution_count": null,
   "id": "cbe1edb4-935d-4fdc-92c8-6c1ea0567513",
   "metadata": {},
   "outputs": [],
   "source": [
    "b[:] # slicing"
   ]
  },
  {
   "cell_type": "code",
   "execution_count": null,
   "id": "f56980df-3a48-4917-a3f1-6ea0011f5919",
   "metadata": {},
   "outputs": [],
   "source": [
    "b[1:4]"
   ]
  },
  {
   "cell_type": "code",
   "execution_count": null,
   "id": "4f4bbebe-9d25-466e-900e-f5434cb2782c",
   "metadata": {},
   "outputs": [],
   "source": [
    "b[-1:]#left side will print from it"
   ]
  },
  {
   "cell_type": "code",
   "execution_count": null,
   "id": "38463878-19b9-4a17-b7d8-dbb811ee084e",
   "metadata": {},
   "outputs": [],
   "source": [
    "b[:-1]#right side will print till before it"
   ]
  },
  {
   "cell_type": "code",
   "execution_count": null,
   "id": "c315e0c0-91b6-409d-8a45-b0a1ffd25f76",
   "metadata": {},
   "outputs": [],
   "source": [
    "b[:-2] #print first 3 rows"
   ]
  },
  {
   "cell_type": "code",
   "execution_count": null,
   "id": "c8c39bea-52ae-4016-a9a7-9f7d10e57158",
   "metadata": {},
   "outputs": [],
   "source": [
    "b[1:4] #print from 1 to 3    #slice (:) will give entire row and column"
   ]
  },
  {
   "cell_type": "code",
   "execution_count": null,
   "id": "2ddea0e2-e5a8-4704-91c2-04bbe0e3095f",
   "metadata": {},
   "outputs": [],
   "source": [
    "b[1,-1] # prints only the num in 1 row -1 num(the num in that rows colum) (,)"
   ]
  },
  {
   "cell_type": "code",
   "execution_count": null,
   "id": "31e2245a-8619-4fae-ac2b-246a4e05e4b4",
   "metadata": {},
   "outputs": [],
   "source": [
    "arr.max()"
   ]
  },
  {
   "cell_type": "code",
   "execution_count": null,
   "id": "0dea6829-a751-4f62-b050-196f53b97f32",
   "metadata": {},
   "outputs": [],
   "source": [
    "arr.min()"
   ]
  },
  {
   "cell_type": "code",
   "execution_count": null,
   "id": "fba5593b-2c43-44af-9273-e27775be7555",
   "metadata": {},
   "outputs": [],
   "source": [
    "mat = np.arrange(0,100).reshape(10,10)"
   ]
  },
  {
   "cell_type": "code",
   "execution_count": null,
   "id": "6832f1c6-9ab7-4df1-849f-fdd81f589cd8",
   "metadata": {},
   "outputs": [],
   "source": []
  },
  {
   "cell_type": "code",
   "execution_count": null,
   "id": "21cadba9-1c8c-41fa-a614-adad3e5c6b06",
   "metadata": {},
   "outputs": [],
   "source": []
  },
  {
   "cell_type": "code",
   "execution_count": null,
   "id": "165f7a92-ffc4-4f33-9590-212d4608da45",
   "metadata": {},
   "outputs": [],
   "source": []
  },
  {
   "cell_type": "code",
   "execution_count": null,
   "id": "591a154b-9f89-4cbb-a027-599b7401cd5a",
   "metadata": {},
   "outputs": [],
   "source": []
  },
  {
   "cell_type": "code",
   "execution_count": null,
   "id": "5bd78a55-04d3-4005-b9bf-7ea6defc0f73",
   "metadata": {},
   "outputs": [],
   "source": []
  },
  {
   "cell_type": "code",
   "execution_count": null,
   "id": "b5ccb345-0cb8-44e2-94be-3b21f69eb555",
   "metadata": {},
   "outputs": [],
   "source": []
  },
  {
   "cell_type": "code",
   "execution_count": null,
   "id": "831a867f-6abe-4b3c-a206-d1e2e6a48b2b",
   "metadata": {},
   "outputs": [],
   "source": []
  },
  {
   "cell_type": "code",
   "execution_count": null,
   "id": "7e01d432-d4db-4cd9-9edc-efcde66b6dbd",
   "metadata": {},
   "outputs": [],
   "source": []
  },
  {
   "cell_type": "code",
   "execution_count": null,
   "id": "734ada9f-ed78-455e-b165-dc7e95268a75",
   "metadata": {},
   "outputs": [],
   "source": []
  },
  {
   "cell_type": "code",
   "execution_count": null,
   "id": "bc44c33d-7154-4310-beaa-773476b98419",
   "metadata": {},
   "outputs": [],
   "source": []
  },
  {
   "cell_type": "code",
   "execution_count": null,
   "id": "d302ced0-0031-47ca-949d-b8a884cd1b83",
   "metadata": {},
   "outputs": [],
   "source": []
  },
  {
   "cell_type": "code",
   "execution_count": null,
   "id": "43d8dca1-5686-4fa8-a1b5-d7c6df219e7b",
   "metadata": {},
   "outputs": [],
   "source": []
  },
  {
   "cell_type": "code",
   "execution_count": null,
   "id": "ac2b2cfa-3596-47f0-b58c-4d4b361bd23d",
   "metadata": {},
   "outputs": [],
   "source": []
  },
  {
   "cell_type": "code",
   "execution_count": null,
   "id": "6b857bac-1b7b-4fa4-94f2-9657c5cbbe4b",
   "metadata": {},
   "outputs": [],
   "source": []
  },
  {
   "cell_type": "code",
   "execution_count": null,
   "id": "a061c53b-157e-42d1-86a3-f6a229cda894",
   "metadata": {},
   "outputs": [],
   "source": []
  },
  {
   "cell_type": "code",
   "execution_count": null,
   "id": "e1c9bb5b-1303-4a72-aa46-db20a65ad5d7",
   "metadata": {},
   "outputs": [],
   "source": []
  },
  {
   "cell_type": "code",
   "execution_count": null,
   "id": "a613ac10-a864-46e1-b586-2fff0502cbdf",
   "metadata": {},
   "outputs": [],
   "source": []
  },
  {
   "cell_type": "code",
   "execution_count": null,
   "id": "831ab790-90d2-4fa4-98e1-3d54053a56a3",
   "metadata": {},
   "outputs": [],
   "source": []
  },
  {
   "cell_type": "code",
   "execution_count": null,
   "id": "e86f6c6d-3084-4ff6-839a-60c39c80cea6",
   "metadata": {},
   "outputs": [],
   "source": []
  },
  {
   "cell_type": "code",
   "execution_count": null,
   "id": "40916586-671c-48bc-acd4-9e5d7474bc4a",
   "metadata": {},
   "outputs": [],
   "source": []
  },
  {
   "cell_type": "code",
   "execution_count": null,
   "id": "45ee01e8-2c39-4568-83f6-7ed7900f848f",
   "metadata": {},
   "outputs": [],
   "source": []
  },
  {
   "cell_type": "code",
   "execution_count": null,
   "id": "0b9fac51-efb6-4637-afba-46aaf51b571f",
   "metadata": {},
   "outputs": [],
   "source": []
  },
  {
   "cell_type": "code",
   "execution_count": null,
   "id": "698f1c8a-95f5-4cb9-83d1-b2e7d3a5164a",
   "metadata": {},
   "outputs": [],
   "source": []
  },
  {
   "cell_type": "code",
   "execution_count": null,
   "id": "566420ea-fcd0-4882-a2f4-b864ce13ac8e",
   "metadata": {},
   "outputs": [],
   "source": []
  },
  {
   "cell_type": "code",
   "execution_count": null,
   "id": "dc33766d-f1a7-4585-864c-701a5f4414bb",
   "metadata": {},
   "outputs": [],
   "source": []
  },
  {
   "cell_type": "code",
   "execution_count": null,
   "id": "b211e065-4c45-4484-b13f-3d34f28d1c62",
   "metadata": {},
   "outputs": [],
   "source": []
  },
  {
   "cell_type": "code",
   "execution_count": null,
   "id": "f5818274-7156-46a7-82bc-0a7918bac88e",
   "metadata": {},
   "outputs": [],
   "source": []
  },
  {
   "cell_type": "code",
   "execution_count": null,
   "id": "600e0c4a-a1ce-46b8-bffa-d243b2515096",
   "metadata": {},
   "outputs": [],
   "source": []
  },
  {
   "cell_type": "code",
   "execution_count": null,
   "id": "1977d4e0-e9ec-46e3-a817-d9585a5b9230",
   "metadata": {},
   "outputs": [],
   "source": []
  },
  {
   "cell_type": "code",
   "execution_count": null,
   "id": "9a06a05b-e141-42c3-862c-4462482bd82b",
   "metadata": {},
   "outputs": [],
   "source": []
  },
  {
   "cell_type": "code",
   "execution_count": null,
   "id": "d4f43423-7288-455e-aaeb-e68d1f9143a8",
   "metadata": {},
   "outputs": [],
   "source": []
  },
  {
   "cell_type": "code",
   "execution_count": null,
   "id": "14c1e00f-3d0e-4d47-b6af-2886aeb5b09f",
   "metadata": {},
   "outputs": [],
   "source": []
  },
  {
   "cell_type": "code",
   "execution_count": null,
   "id": "9aaafb08-e110-490f-b181-f1efd27d775b",
   "metadata": {},
   "outputs": [],
   "source": []
  },
  {
   "cell_type": "code",
   "execution_count": null,
   "id": "6146a91f-0aa5-4f5e-9156-05971cfd283b",
   "metadata": {},
   "outputs": [],
   "source": []
  },
  {
   "cell_type": "code",
   "execution_count": null,
   "id": "135f37bc-dd3b-4dce-b864-2e20c40beacb",
   "metadata": {},
   "outputs": [],
   "source": []
  },
  {
   "cell_type": "code",
   "execution_count": null,
   "id": "67736e81-344f-4acd-8e62-190853e49b6a",
   "metadata": {},
   "outputs": [],
   "source": []
  },
  {
   "cell_type": "code",
   "execution_count": null,
   "id": "87e2b4c2-1580-4f86-b1d5-37dfa2d2b354",
   "metadata": {},
   "outputs": [],
   "source": []
  },
  {
   "cell_type": "code",
   "execution_count": null,
   "id": "b0bc0907-7ba9-41eb-b13d-89943062fb98",
   "metadata": {},
   "outputs": [],
   "source": []
  },
  {
   "cell_type": "code",
   "execution_count": null,
   "id": "a05bb902-4b45-439b-b8e5-960041b7ef5a",
   "metadata": {},
   "outputs": [],
   "source": []
  },
  {
   "cell_type": "code",
   "execution_count": null,
   "id": "8b97d9a7-08a2-4854-8aa7-2c82a31072d2",
   "metadata": {},
   "outputs": [],
   "source": []
  },
  {
   "cell_type": "code",
   "execution_count": null,
   "id": "e5542355-e0e4-4762-8be0-a405c07b774d",
   "metadata": {},
   "outputs": [],
   "source": []
  },
  {
   "cell_type": "code",
   "execution_count": null,
   "id": "c9f5079c-894e-49c3-96d0-3dedbd2d373d",
   "metadata": {},
   "outputs": [],
   "source": []
  },
  {
   "cell_type": "code",
   "execution_count": null,
   "id": "a42b3330-dba5-48e9-85d4-7091f3cbe4d7",
   "metadata": {},
   "outputs": [],
   "source": []
  },
  {
   "cell_type": "code",
   "execution_count": null,
   "id": "a814b5db-ce70-48f0-8c73-da67c5a8a23a",
   "metadata": {},
   "outputs": [],
   "source": []
  },
  {
   "cell_type": "code",
   "execution_count": null,
   "id": "9cc3aedd-0931-44d9-8437-00ae55538651",
   "metadata": {},
   "outputs": [],
   "source": []
  },
  {
   "cell_type": "code",
   "execution_count": null,
   "id": "b11a616c-4df4-4df9-92eb-4db61a10f7c0",
   "metadata": {},
   "outputs": [],
   "source": []
  },
  {
   "cell_type": "code",
   "execution_count": null,
   "id": "7e3901fe-f8aa-48d5-9a2f-91de4d93e642",
   "metadata": {},
   "outputs": [],
   "source": []
  },
  {
   "cell_type": "code",
   "execution_count": null,
   "id": "77b58e85-4c98-4a5a-9f03-3fdbca4c3d21",
   "metadata": {},
   "outputs": [],
   "source": []
  },
  {
   "cell_type": "code",
   "execution_count": null,
   "id": "50a02e94-ee64-46f1-b93d-fc27304fcebf",
   "metadata": {},
   "outputs": [],
   "source": []
  },
  {
   "cell_type": "code",
   "execution_count": null,
   "id": "7bc03334-3766-4b1b-9211-601070d1e287",
   "metadata": {},
   "outputs": [],
   "source": []
  },
  {
   "cell_type": "code",
   "execution_count": null,
   "id": "37f20fba-2094-49fc-9fb3-7fe31f9905c9",
   "metadata": {},
   "outputs": [],
   "source": []
  },
  {
   "cell_type": "code",
   "execution_count": null,
   "id": "2ccef5f8-b20c-4e9b-92d8-6078e20f08dc",
   "metadata": {},
   "outputs": [],
   "source": []
  },
  {
   "cell_type": "code",
   "execution_count": null,
   "id": "5ada895b-796c-475b-9005-9396f748bfd9",
   "metadata": {},
   "outputs": [],
   "source": []
  },
  {
   "cell_type": "code",
   "execution_count": null,
   "id": "bb4cfbb2-9444-4b2d-8e61-61db8a18aa64",
   "metadata": {},
   "outputs": [],
   "source": []
  },
  {
   "cell_type": "code",
   "execution_count": null,
   "id": "1c8bc39c-f47a-4d8f-bcc9-c5ae6a131c21",
   "metadata": {},
   "outputs": [],
   "source": []
  },
  {
   "cell_type": "code",
   "execution_count": null,
   "id": "ddf55664-ae39-4770-b750-d17e749f1308",
   "metadata": {},
   "outputs": [],
   "source": []
  },
  {
   "cell_type": "code",
   "execution_count": null,
   "id": "63a70fff-d971-4915-a007-4f521f15a44e",
   "metadata": {},
   "outputs": [],
   "source": []
  },
  {
   "cell_type": "code",
   "execution_count": null,
   "id": "54f6c5e3-b8db-419f-9b28-e13ac82b4a99",
   "metadata": {},
   "outputs": [],
   "source": []
  },
  {
   "cell_type": "code",
   "execution_count": null,
   "id": "26236e64-4e28-4b48-b1e0-ce379e8488a6",
   "metadata": {},
   "outputs": [],
   "source": []
  },
  {
   "cell_type": "code",
   "execution_count": null,
   "id": "5065cc0e-4852-45db-add5-e89c9b659113",
   "metadata": {},
   "outputs": [],
   "source": []
  },
  {
   "cell_type": "code",
   "execution_count": null,
   "id": "742d03a4-a371-4479-a605-57a2a7d41eac",
   "metadata": {},
   "outputs": [],
   "source": []
  },
  {
   "cell_type": "code",
   "execution_count": null,
   "id": "5eee3389-1a3c-4a65-860f-cabc4cd655b2",
   "metadata": {},
   "outputs": [],
   "source": []
  },
  {
   "cell_type": "code",
   "execution_count": null,
   "id": "3dacba74-bebe-4bcf-bf53-5f73f55fa3b2",
   "metadata": {},
   "outputs": [],
   "source": []
  },
  {
   "cell_type": "code",
   "execution_count": null,
   "id": "828f1859-795a-4af0-9fbe-7d3f05cfb9fe",
   "metadata": {},
   "outputs": [],
   "source": []
  },
  {
   "cell_type": "code",
   "execution_count": null,
   "id": "0a04a591-a7ed-4aeb-8dbc-c41fcf786bec",
   "metadata": {},
   "outputs": [],
   "source": []
  },
  {
   "cell_type": "code",
   "execution_count": null,
   "id": "7a6b5b85-95f8-4c27-8ec3-2f04dda4c980",
   "metadata": {},
   "outputs": [],
   "source": []
  },
  {
   "cell_type": "code",
   "execution_count": null,
   "id": "48d267c0-7c1e-4c77-9cfa-1af7bb76f8b5",
   "metadata": {},
   "outputs": [],
   "source": []
  },
  {
   "cell_type": "code",
   "execution_count": null,
   "id": "9005b645-9444-4792-a24e-4e4bcd8e61f3",
   "metadata": {},
   "outputs": [],
   "source": []
  },
  {
   "cell_type": "code",
   "execution_count": null,
   "id": "15e3bf12-2a56-4ba3-a182-ec4d0aff4a91",
   "metadata": {},
   "outputs": [],
   "source": []
  },
  {
   "cell_type": "code",
   "execution_count": null,
   "id": "035d5e7a-00aa-4ac3-8b3c-94650170d044",
   "metadata": {},
   "outputs": [],
   "source": []
  },
  {
   "cell_type": "code",
   "execution_count": null,
   "id": "dbbc68e2-d033-48e1-b52f-e51ad4fa8ab0",
   "metadata": {},
   "outputs": [],
   "source": []
  },
  {
   "cell_type": "code",
   "execution_count": null,
   "id": "e3dcd204-d14b-4ca0-8fb5-41242ffb4155",
   "metadata": {},
   "outputs": [],
   "source": []
  },
  {
   "cell_type": "code",
   "execution_count": null,
   "id": "d9ea4ad5-5e06-4387-b79b-55fbc36b59ff",
   "metadata": {},
   "outputs": [],
   "source": []
  },
  {
   "cell_type": "code",
   "execution_count": null,
   "id": "b776cd4a-ebe0-4d41-b189-91cd20db4202",
   "metadata": {},
   "outputs": [],
   "source": []
  },
  {
   "cell_type": "code",
   "execution_count": null,
   "id": "d176f765-d3d5-4626-88c8-8880d67561d3",
   "metadata": {},
   "outputs": [],
   "source": []
  },
  {
   "cell_type": "code",
   "execution_count": null,
   "id": "653b4d2b-9b80-4e06-82a1-003f9df255a8",
   "metadata": {},
   "outputs": [],
   "source": []
  },
  {
   "cell_type": "code",
   "execution_count": null,
   "id": "77d342cf-eb86-49a9-a482-606d2efa864d",
   "metadata": {},
   "outputs": [],
   "source": []
  },
  {
   "cell_type": "code",
   "execution_count": null,
   "id": "5cb41622-54d4-4c8d-8ae9-4cd45763e7fe",
   "metadata": {},
   "outputs": [],
   "source": []
  },
  {
   "cell_type": "code",
   "execution_count": null,
   "id": "a6d3d4d4-981c-4910-ace4-f5cbc7edcb09",
   "metadata": {},
   "outputs": [],
   "source": []
  },
  {
   "cell_type": "code",
   "execution_count": null,
   "id": "ee2de012-4e31-46b1-acca-a2c55995648e",
   "metadata": {},
   "outputs": [],
   "source": []
  },
  {
   "cell_type": "code",
   "execution_count": null,
   "id": "cdf42034-955a-4681-a971-812068a250a1",
   "metadata": {},
   "outputs": [],
   "source": []
  },
  {
   "cell_type": "code",
   "execution_count": null,
   "id": "ca4ac2e3-6ff4-47cf-a813-dc5f096ecfdc",
   "metadata": {},
   "outputs": [],
   "source": []
  },
  {
   "cell_type": "code",
   "execution_count": null,
   "id": "1c798581-cf00-45c4-a60f-b95b709482bb",
   "metadata": {},
   "outputs": [],
   "source": []
  },
  {
   "cell_type": "code",
   "execution_count": null,
   "id": "3797a32b-60c2-4b19-8bc5-acae33d438dd",
   "metadata": {},
   "outputs": [],
   "source": []
  },
  {
   "cell_type": "code",
   "execution_count": null,
   "id": "ab33ff35-3e85-42e1-98d4-d612f99d7872",
   "metadata": {},
   "outputs": [],
   "source": []
  },
  {
   "cell_type": "code",
   "execution_count": null,
   "id": "b5931b8d-3bca-4546-a53f-951e268cdde8",
   "metadata": {},
   "outputs": [],
   "source": []
  },
  {
   "cell_type": "code",
   "execution_count": null,
   "id": "d84d789c-66a7-4f7b-a94a-c08ba50082ec",
   "metadata": {},
   "outputs": [],
   "source": []
  },
  {
   "cell_type": "code",
   "execution_count": null,
   "id": "9a193b11-fcf5-4aef-87a2-bb30096f4af3",
   "metadata": {},
   "outputs": [],
   "source": []
  },
  {
   "cell_type": "code",
   "execution_count": null,
   "id": "44436d98-2386-4727-901c-b47b65edfc8d",
   "metadata": {},
   "outputs": [],
   "source": []
  },
  {
   "cell_type": "code",
   "execution_count": null,
   "id": "1b77a3f9-bacb-4992-8bdb-4dd792e38121",
   "metadata": {},
   "outputs": [],
   "source": []
  },
  {
   "cell_type": "code",
   "execution_count": null,
   "id": "a42c7a80-9ce3-4080-adbc-3cdac1768dc1",
   "metadata": {},
   "outputs": [],
   "source": []
  },
  {
   "cell_type": "code",
   "execution_count": null,
   "id": "b350c302-00e8-439c-8afc-93dfa9dacad7",
   "metadata": {},
   "outputs": [],
   "source": []
  },
  {
   "cell_type": "code",
   "execution_count": null,
   "id": "9c84b4f3-2cfe-41b2-b49c-fbc43121675a",
   "metadata": {},
   "outputs": [],
   "source": []
  },
  {
   "cell_type": "code",
   "execution_count": null,
   "id": "c0253daa-b867-4363-b365-710b670a63dc",
   "metadata": {},
   "outputs": [],
   "source": []
  },
  {
   "cell_type": "code",
   "execution_count": null,
   "id": "f703a5e2-a486-4c69-b160-51f77e6d19ef",
   "metadata": {},
   "outputs": [],
   "source": []
  },
  {
   "cell_type": "code",
   "execution_count": null,
   "id": "4503c9d1-9c0d-4e6a-9390-26bc46642955",
   "metadata": {},
   "outputs": [],
   "source": []
  },
  {
   "cell_type": "code",
   "execution_count": null,
   "id": "c0899d99-7dc0-4f93-910d-4c54130972e5",
   "metadata": {},
   "outputs": [],
   "source": []
  },
  {
   "cell_type": "code",
   "execution_count": null,
   "id": "a405a4ea-80ec-4552-a5c5-bc7b73cff4cb",
   "metadata": {},
   "outputs": [],
   "source": []
  },
  {
   "cell_type": "code",
   "execution_count": null,
   "id": "9c3ea18a-197a-4a1a-8edc-28197f74acd0",
   "metadata": {},
   "outputs": [],
   "source": []
  },
  {
   "cell_type": "code",
   "execution_count": null,
   "id": "fc9ef0b0-df01-4d43-a6a1-fd64dad89f5b",
   "metadata": {},
   "outputs": [],
   "source": []
  },
  {
   "cell_type": "code",
   "execution_count": null,
   "id": "85468bae-7e12-42ee-9bf6-89d19962adc9",
   "metadata": {},
   "outputs": [],
   "source": []
  },
  {
   "cell_type": "code",
   "execution_count": null,
   "id": "7800835f-7d0a-42c2-b1af-0dd1b80a0a63",
   "metadata": {},
   "outputs": [],
   "source": []
  },
  {
   "cell_type": "code",
   "execution_count": null,
   "id": "896b2c9e-0ee1-4489-852a-c79342f3de78",
   "metadata": {},
   "outputs": [],
   "source": []
  },
  {
   "cell_type": "code",
   "execution_count": null,
   "id": "2a4e0397-0ad9-4357-a255-e74910411023",
   "metadata": {},
   "outputs": [],
   "source": []
  },
  {
   "cell_type": "code",
   "execution_count": null,
   "id": "6bb06bd0-9999-4933-8840-243a7a15a178",
   "metadata": {},
   "outputs": [],
   "source": []
  },
  {
   "cell_type": "code",
   "execution_count": null,
   "id": "2a4a768c-ab30-4169-aeee-92b318930390",
   "metadata": {},
   "outputs": [],
   "source": []
  },
  {
   "cell_type": "code",
   "execution_count": null,
   "id": "a409f818-dd7d-41ee-82ab-7e0dda39d5fe",
   "metadata": {},
   "outputs": [],
   "source": []
  },
  {
   "cell_type": "code",
   "execution_count": null,
   "id": "6fea4eb4-3d41-4807-80b0-f0ac0cca5186",
   "metadata": {},
   "outputs": [],
   "source": []
  },
  {
   "cell_type": "code",
   "execution_count": null,
   "id": "7185ffe9-088e-4fbc-8dba-3ca59d29c233",
   "metadata": {},
   "outputs": [],
   "source": []
  },
  {
   "cell_type": "code",
   "execution_count": null,
   "id": "c8352ddc-ab5e-4de2-b26b-da28b2f51211",
   "metadata": {},
   "outputs": [],
   "source": []
  },
  {
   "cell_type": "code",
   "execution_count": null,
   "id": "9eb9998d-ae78-4ce5-964f-cb73358c92ab",
   "metadata": {},
   "outputs": [],
   "source": []
  },
  {
   "cell_type": "code",
   "execution_count": null,
   "id": "ad515e00-55f8-4ebb-a199-c7b550481b0b",
   "metadata": {},
   "outputs": [],
   "source": []
  },
  {
   "cell_type": "code",
   "execution_count": null,
   "id": "57027baf-028e-4a63-9be3-af378d3b66c4",
   "metadata": {},
   "outputs": [],
   "source": []
  },
  {
   "cell_type": "code",
   "execution_count": null,
   "id": "56b5c21f-8ba6-4415-a83d-ab56eedf2a65",
   "metadata": {},
   "outputs": [],
   "source": []
  },
  {
   "cell_type": "code",
   "execution_count": null,
   "id": "62cb91c0-69e5-4c2e-a4b0-943657fd7001",
   "metadata": {},
   "outputs": [],
   "source": []
  }
 ],
 "metadata": {
  "kernelspec": {
   "display_name": "Python 3 (ipykernel)",
   "language": "python",
   "name": "python3"
  },
  "language_info": {
   "codemirror_mode": {
    "name": "ipython",
    "version": 3
   },
   "file_extension": ".py",
   "mimetype": "text/x-python",
   "name": "python",
   "nbconvert_exporter": "python",
   "pygments_lexer": "ipython3",
   "version": "3.12.7"
  }
 },
 "nbformat": 4,
 "nbformat_minor": 5
}
