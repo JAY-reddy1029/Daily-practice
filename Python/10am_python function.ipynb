{
 "cells": [
  {
   "cell_type": "code",
   "execution_count": 1,
   "id": "23f43c02-b200-4168-944e-aeb80478d01c",
   "metadata": {},
   "outputs": [],
   "source": [
    "def greet(): \n",
    "    print('hello')\n",
    "    print('good morning team')"
   ]
  },
  {
   "cell_type": "code",
   "execution_count": 2,
   "id": "1b19d703-9174-4391-9c24-30db315e7ec0",
   "metadata": {},
   "outputs": [
    {
     "name": "stdout",
     "output_type": "stream",
     "text": [
      "hello\n",
      "good morning team\n"
     ]
    }
   ],
   "source": [
    "def greet(): \n",
    "    print('hello')\n",
    "    print('good morning team')\n",
    "greet()"
   ]
  },
  {
   "cell_type": "code",
   "execution_count": 3,
   "id": "ebcbd10d-e2da-4abc-a2fa-a8ddd07a8a22",
   "metadata": {},
   "outputs": [
    {
     "name": "stdout",
     "output_type": "stream",
     "text": [
      "hello\n",
      "good morning team\n",
      "hello\n",
      "good morning team\n"
     ]
    }
   ],
   "source": [
    "def greet(): \n",
    "    print('hello')\n",
    "    print('good morning team')\n",
    "greet()\n",
    "\n",
    "def greet(): \n",
    "    print('hello')\n",
    "    print('good morning team')\n",
    "greet()"
   ]
  },
  {
   "cell_type": "code",
   "execution_count": 4,
   "id": "9d1c0508-af21-47af-8fd1-e26e9cfc4985",
   "metadata": {},
   "outputs": [
    {
     "name": "stdout",
     "output_type": "stream",
     "text": [
      "hello\n",
      "good morning team\n",
      "\n",
      "hello\n",
      "good morning team\n"
     ]
    }
   ],
   "source": [
    "def greet(): \n",
    "    print('hello')\n",
    "    print('good morning team')\n",
    "greet()\n",
    "\n",
    "print()\n",
    "\n",
    "def greet(): \n",
    "    print('hello')\n",
    "    print('good morning team')\n",
    "greet()"
   ]
  },
  {
   "cell_type": "code",
   "execution_count": 5,
   "id": "05322222-9cc1-417a-9ccf-c1813e9a91ac",
   "metadata": {},
   "outputs": [
    {
     "name": "stdout",
     "output_type": "stream",
     "text": [
      "hello\n",
      "good morning team\n",
      "\n",
      "hello\n",
      "good morning team\n",
      "\n",
      "hello\n",
      "good morning team\n"
     ]
    }
   ],
   "source": [
    "def greet(): \n",
    "    print('hello')\n",
    "    print('good morning team')\n",
    "greet()\n",
    "\n",
    "print()\n",
    "\n",
    "def greet(): \n",
    "    print('hello')\n",
    "    print('good morning team')\n",
    "greet()\n",
    "\n",
    "print()\n",
    "\n",
    "def greet(): \n",
    "    print('hello')\n",
    "    print('good morning team')\n",
    "greet()"
   ]
  },
  {
   "cell_type": "code",
   "execution_count": 10,
   "id": "70154b32-6b7a-4209-acf9-10493880f06d",
   "metadata": {},
   "outputs": [
    {
     "name": "stdout",
     "output_type": "stream",
     "text": [
      "hello\n",
      "good morning team\n",
      "***********\n",
      "hello\n",
      "good morning team\n",
      "***********\n",
      "hello\n",
      "good morning team\n"
     ]
    }
   ],
   "source": [
    "def greet():  # declare function without argument\n",
    "    print('hello')\n",
    "    print('good morning team')\n",
    "greet()\n",
    "print('***********')\n",
    "greet()\n",
    "print('***********')\n",
    "greet() # function calling  with out argument) "
   ]
  },
  {
   "cell_type": "code",
   "execution_count": 11,
   "id": "d0a3fbf3-3718-4d1d-a035-8306c9437d73",
   "metadata": {},
   "outputs": [
    {
     "name": "stdout",
     "output_type": "stream",
     "text": [
      "hello\n",
      "good morning team\n"
     ]
    }
   ],
   "source": [
    "# function without argument\n",
    "\n",
    "def greet(): \n",
    "    print('hello')\n",
    "    print('good morning team')\n",
    "greet()"
   ]
  },
  {
   "cell_type": "code",
   "execution_count": 14,
   "id": "831fa886-ab1d-4adf-be6e-21449a665d5c",
   "metadata": {},
   "outputs": [
    {
     "name": "stdout",
     "output_type": "stream",
     "text": [
      "11\n"
     ]
    }
   ],
   "source": [
    "# function with argument \n",
    "\n",
    "def add(x,y):\n",
    "    c=x+y\n",
    "    print(c)  \n",
    "   \n",
    "add(5,6)"
   ]
  },
  {
   "cell_type": "code",
   "execution_count": 15,
   "id": "990d7cbc-b3d1-4e81-9b0d-f4f127bec075",
   "metadata": {},
   "outputs": [
    {
     "data": {
      "text/plain": [
       "11"
      ]
     },
     "execution_count": 15,
     "metadata": {},
     "output_type": "execute_result"
    }
   ],
   "source": [
    "# function with argument \n",
    "\n",
    "def add(x,y):\n",
    "    c=x+y\n",
    "    return c  \n",
    "   \n",
    "add(5,6)"
   ]
  },
  {
   "cell_type": "code",
   "execution_count": 16,
   "id": "6a3d3579-601c-4213-8b6d-471865ca3842",
   "metadata": {},
   "outputs": [
    {
     "ename": "TypeError",
     "evalue": "add() missing 1 required positional argument: 'y'",
     "output_type": "error",
     "traceback": [
      "\u001b[1;31m---------------------------------------------------------------------------\u001b[0m",
      "\u001b[1;31mTypeError\u001b[0m                                 Traceback (most recent call last)",
      "Cell \u001b[1;32mIn[16], line 7\u001b[0m\n\u001b[0;32m      4\u001b[0m     c\u001b[38;5;241m=\u001b[39mx\u001b[38;5;241m+\u001b[39my\n\u001b[0;32m      5\u001b[0m     \u001b[38;5;28;01mreturn\u001b[39;00m c  \n\u001b[1;32m----> 7\u001b[0m add(\u001b[38;5;241m5\u001b[39m)\n",
      "\u001b[1;31mTypeError\u001b[0m: add() missing 1 required positional argument: 'y'"
     ]
    }
   ],
   "source": [
    "# function with argument \n",
    "\n",
    "def add(x,y):\n",
    "    c=x+y\n",
    "    return c  \n",
    "   \n",
    "add(5)"
   ]
  },
  {
   "cell_type": "code",
   "execution_count": 17,
   "id": "33e6f7a1-a696-4297-92ac-d20d976d5824",
   "metadata": {},
   "outputs": [
    {
     "ename": "TypeError",
     "evalue": "add() takes 2 positional arguments but 3 were given",
     "output_type": "error",
     "traceback": [
      "\u001b[1;31m---------------------------------------------------------------------------\u001b[0m",
      "\u001b[1;31mTypeError\u001b[0m                                 Traceback (most recent call last)",
      "Cell \u001b[1;32mIn[17], line 7\u001b[0m\n\u001b[0;32m      4\u001b[0m     c\u001b[38;5;241m=\u001b[39mx\u001b[38;5;241m+\u001b[39my\n\u001b[0;32m      5\u001b[0m     \u001b[38;5;28;01mreturn\u001b[39;00m c  \n\u001b[1;32m----> 7\u001b[0m add(\u001b[38;5;241m5\u001b[39m,\u001b[38;5;241m6\u001b[39m,\u001b[38;5;241m7\u001b[39m)\n",
      "\u001b[1;31mTypeError\u001b[0m: add() takes 2 positional arguments but 3 were given"
     ]
    }
   ],
   "source": [
    "# function with argument \n",
    "\n",
    "def add(x,y):\n",
    "    c=x+y\n",
    "    return c  \n",
    "   \n",
    "add(5,6,7)"
   ]
  },
  {
   "cell_type": "code",
   "execution_count": 18,
   "id": "33baa198-8c5a-475f-8fc1-fd88d593b084",
   "metadata": {},
   "outputs": [
    {
     "data": {
      "text/plain": [
       "11"
      ]
     },
     "execution_count": 18,
     "metadata": {},
     "output_type": "execute_result"
    }
   ],
   "source": [
    "# function with argument \n",
    "\n",
    "def add(x,y,z):\n",
    "    c=x+y\n",
    "    return c  \n",
    "   \n",
    "add(5,6,7)"
   ]
  },
  {
   "cell_type": "code",
   "execution_count": 21,
   "id": "60dc0faf-6f3d-4850-b352-8dfcf6860e73",
   "metadata": {},
   "outputs": [
    {
     "ename": "NameError",
     "evalue": "name 'm' is not defined",
     "output_type": "error",
     "traceback": [
      "\u001b[1;31m---------------------------------------------------------------------------\u001b[0m",
      "\u001b[1;31mNameError\u001b[0m                                 Traceback (most recent call last)",
      "Cell \u001b[1;32mIn[21], line 7\u001b[0m\n\u001b[0;32m      4\u001b[0m     c\u001b[38;5;241m=\u001b[39mx\u001b[38;5;241m+\u001b[39my\u001b[38;5;241m+\u001b[39mz\u001b[38;5;241m+\u001b[39mm \n\u001b[0;32m      5\u001b[0m     \u001b[38;5;28;01mreturn\u001b[39;00m c  \n\u001b[1;32m----> 7\u001b[0m add(\u001b[38;5;241m5\u001b[39m,\u001b[38;5;241m6\u001b[39m,\u001b[38;5;241m7\u001b[39m)\n",
      "Cell \u001b[1;32mIn[21], line 4\u001b[0m, in \u001b[0;36madd\u001b[1;34m(x, y, z)\u001b[0m\n\u001b[0;32m      3\u001b[0m \u001b[38;5;28;01mdef\u001b[39;00m \u001b[38;5;21madd\u001b[39m(x,y,z):\n\u001b[1;32m----> 4\u001b[0m     c\u001b[38;5;241m=\u001b[39mx\u001b[38;5;241m+\u001b[39my\u001b[38;5;241m+\u001b[39mz\u001b[38;5;241m+\u001b[39mm \n\u001b[0;32m      5\u001b[0m     \u001b[38;5;28;01mreturn\u001b[39;00m c\n",
      "\u001b[1;31mNameError\u001b[0m: name 'm' is not defined"
     ]
    }
   ],
   "source": [
    "# function with argument \n",
    "\n",
    "def add(x,y,z):\n",
    "    c=x+y+z+m \n",
    "    return c  \n",
    "   \n",
    "add(5,6,7)"
   ]
  },
  {
   "cell_type": "code",
   "execution_count": 22,
   "id": "818db01e-fc69-4a1e-8e2d-2a57e4dfd53b",
   "metadata": {},
   "outputs": [
    {
     "ename": "NameError",
     "evalue": "name 'm' is not defined",
     "output_type": "error",
     "traceback": [
      "\u001b[1;31m---------------------------------------------------------------------------\u001b[0m",
      "\u001b[1;31mNameError\u001b[0m                                 Traceback (most recent call last)",
      "Cell \u001b[1;32mIn[22], line 7\u001b[0m\n\u001b[0;32m      4\u001b[0m     c \u001b[38;5;241m=\u001b[39m x\u001b[38;5;241m+\u001b[39my\u001b[38;5;241m+\u001b[39mz\u001b[38;5;241m+\u001b[39mm \n\u001b[0;32m      5\u001b[0m     \u001b[38;5;28;01mreturn\u001b[39;00m c  \n\u001b[1;32m----> 7\u001b[0m add(\u001b[38;5;241m5\u001b[39m,\u001b[38;5;241m6\u001b[39m,\u001b[38;5;241m7\u001b[39m,\u001b[38;5;241m8\u001b[39m)\n",
      "Cell \u001b[1;32mIn[22], line 4\u001b[0m, in \u001b[0;36madd\u001b[1;34m(x, y, z, n)\u001b[0m\n\u001b[0;32m      3\u001b[0m \u001b[38;5;28;01mdef\u001b[39;00m \u001b[38;5;21madd\u001b[39m(x,y,z,n):\n\u001b[1;32m----> 4\u001b[0m     c \u001b[38;5;241m=\u001b[39m x\u001b[38;5;241m+\u001b[39my\u001b[38;5;241m+\u001b[39mz\u001b[38;5;241m+\u001b[39mm \n\u001b[0;32m      5\u001b[0m     \u001b[38;5;28;01mreturn\u001b[39;00m c\n",
      "\u001b[1;31mNameError\u001b[0m: name 'm' is not defined"
     ]
    }
   ],
   "source": [
    "# function with argument \n",
    "\n",
    "def add(x,y,z,n):\n",
    "    c = x+y+z+m \n",
    "    return c  \n",
    "   \n",
    "add(5,6,7,8)"
   ]
  },
  {
   "cell_type": "code",
   "execution_count": 23,
   "id": "64dd936d-36fb-4d83-aad9-190cb8f0f40f",
   "metadata": {},
   "outputs": [
    {
     "data": {
      "text/plain": [
       "26"
      ]
     },
     "execution_count": 23,
     "metadata": {},
     "output_type": "execute_result"
    }
   ],
   "source": [
    "# function with argument \n",
    "\n",
    "def add(x,y,z,n):\n",
    "    c = x+y+z+n\n",
    "    return c  \n",
    "   \n",
    "add(5,6,7,8)"
   ]
  },
  {
   "cell_type": "code",
   "execution_count": 24,
   "id": "bd3bcf4c-2ea7-4759-a2e4-bf268a78219a",
   "metadata": {},
   "outputs": [
    {
     "name": "stdout",
     "output_type": "stream",
     "text": [
      "hello\n",
      "good morning team\n"
     ]
    },
    {
     "data": {
      "text/plain": [
       "11"
      ]
     },
     "execution_count": 24,
     "metadata": {},
     "output_type": "execute_result"
    }
   ],
   "source": [
    "def greet(): \n",
    "    print('hello')\n",
    "    print('good morning team')\n",
    "greet()\n",
    "\n",
    "def add(x,y):\n",
    "    c = x+y\n",
    "    return c  \n",
    "   \n",
    "add(5,6)"
   ]
  },
  {
   "cell_type": "code",
   "execution_count": 27,
   "id": "7b7c12c3-d31d-47e0-a170-371119acc7fc",
   "metadata": {},
   "outputs": [
    {
     "name": "stdout",
     "output_type": "stream",
     "text": [
      "hello\n",
      "good morning team\n",
      "11\n",
      "-1\n"
     ]
    }
   ],
   "source": [
    "def greet(): \n",
    "    print('hello')\n",
    "    print('good morning team')\n",
    "    \n",
    "def add(x,y):\n",
    "    c = x+y\n",
    "    return c  \n",
    "\n",
    "def sub(x,y):\n",
    "    d = x-y\n",
    "    return d\n",
    "\n",
    "\n",
    "greet()   \n",
    "print(add(5,6))\n",
    "print(sub(5,6))"
   ]
  },
  {
   "cell_type": "code",
   "execution_count": 32,
   "id": "a77de36c-e4c9-4bad-a531-f1cdb84b126f",
   "metadata": {},
   "outputs": [
    {
     "name": "stdout",
     "output_type": "stream",
     "text": [
      "(9, -1)\n",
      "<class 'tuple'>\n"
     ]
    }
   ],
   "source": [
    "def add_sub(x,y): \n",
    "    c= x+y\n",
    "    d= x-y\n",
    "    return c, d \n",
    "    \n",
    "result = add_sub(4,5)\n",
    "print(result)\n",
    "print(type(result))"
   ]
  },
  {
   "cell_type": "code",
   "execution_count": 33,
   "id": "a3a5fca1-78f4-4de8-8e2d-51d97441f810",
   "metadata": {},
   "outputs": [
    {
     "name": "stdout",
     "output_type": "stream",
     "text": [
      "9\n",
      "-1\n",
      "<class 'int'>\n"
     ]
    }
   ],
   "source": [
    "def add_sub(x,y): \n",
    "    c= x+y\n",
    "    d= x-y\n",
    "    return c, d \n",
    "    \n",
    "result, result1 = add_sub(4,5)\n",
    "\n",
    "print(result)\n",
    "print(result1)\n",
    "print(type(result))"
   ]
  },
  {
   "cell_type": "code",
   "execution_count": 39,
   "id": "982f8139-0efc-407a-9bf2-5065a8dda8e2",
   "metadata": {},
   "outputs": [
    {
     "data": {
      "text/plain": [
       "20"
      ]
     },
     "execution_count": 39,
     "metadata": {},
     "output_type": "execute_result"
    }
   ],
   "source": [
    "def add_sub_mul(x,y): \n",
    "    c= x+y\n",
    "    d= x-y\n",
    "    e= x*y\n",
    "    return c, d, e \n",
    "    \n",
    "add, sub, mul = add_sub_mul(4,5)\n",
    "\n",
    "add\n",
    "sub\n",
    "mul"
   ]
  },
  {
   "cell_type": "markdown",
   "id": "9b360af6-6689-400d-b302-6bbfed70339b",
   "metadata": {},
   "source": [
    "# update"
   ]
  },
  {
   "cell_type": "code",
   "execution_count": 1,
   "id": "4437d618-b90f-4bdf-b85d-3ee772194362",
   "metadata": {},
   "outputs": [
    {
     "name": "stdout",
     "output_type": "stream",
     "text": [
      "8\n"
     ]
    }
   ],
   "source": [
    "def update(): \n",
    "    x = 8\n",
    "    print(x)\n",
    "update()"
   ]
  },
  {
   "cell_type": "code",
   "execution_count": 2,
   "id": "4d3f32df-0f0f-49d8-a1f9-2798b6fb040e",
   "metadata": {},
   "outputs": [
    {
     "ename": "TypeError",
     "evalue": "update() takes 0 positional arguments but 1 was given",
     "output_type": "error",
     "traceback": [
      "\u001b[31m---------------------------------------------------------------------------\u001b[39m",
      "\u001b[31mTypeError\u001b[39m                                 Traceback (most recent call last)",
      "\u001b[36mCell\u001b[39m\u001b[36m \u001b[39m\u001b[32mIn[2]\u001b[39m\u001b[32m, line 5\u001b[39m\n\u001b[32m      2\u001b[39m     x = \u001b[32m8\u001b[39m\n\u001b[32m      3\u001b[39m     \u001b[38;5;28mprint\u001b[39m(x)\n\u001b[32m----> \u001b[39m\u001b[32m5\u001b[39m \u001b[43mupdate\u001b[49m\u001b[43m(\u001b[49m\u001b[32;43m8\u001b[39;49m\u001b[43m)\u001b[49m\n",
      "\u001b[31mTypeError\u001b[39m: update() takes 0 positional arguments but 1 was given"
     ]
    }
   ],
   "source": [
    "def update(): #update function take the value from the user\n",
    "    x = 8\n",
    "    print(x)\n",
    "    \n",
    "update(8)"
   ]
  },
  {
   "cell_type": "code",
   "execution_count": null,
   "id": "508d1941-c821-41d8-9245-db40681b0623",
   "metadata": {},
   "outputs": [
    {
     "data": {
      "text/plain": [
       "8"
      ]
     },
     "execution_count": 49,
     "metadata": {},
     "output_type": "execute_result"
    }
   ],
   "source": [
    "def update(x): #update function take the value from the user\n",
    "    x = 8\n",
    "    return x\n",
    "    \n",
    "update(100)"
   ]
  },
  {
   "cell_type": "code",
   "execution_count": 3,
   "id": "c3481cf0-6275-4441-a47c-d0cab6d0e524",
   "metadata": {},
   "outputs": [
    {
     "name": "stdout",
     "output_type": "stream",
     "text": [
      "15\n"
     ]
    }
   ],
   "source": [
    "def update(x):  \n",
    "    x = 8\n",
    "    return x\n",
    "    \n",
    "a = 15\n",
    "update(a)\n",
    "print(a)"
   ]
  },
  {
   "cell_type": "code",
   "execution_count": 12,
   "id": "c82e37cf-06d5-493b-bfcc-3dfeb5bcb169",
   "metadata": {},
   "outputs": [
    {
     "name": "stdout",
     "output_type": "stream",
     "text": [
      "15\n"
     ]
    }
   ],
   "source": [
    "def update(x):  \n",
    "    x = 8\n",
    "    return x\n",
    "    \n",
    "x = 15\n",
    "update(x)\n",
    "print(x)"
   ]
  },
  {
   "cell_type": "code",
   "execution_count": null,
   "id": "4a17a26a-73bc-4a63-a6a2-9d221a51bd94",
   "metadata": {},
   "outputs": [],
   "source": []
  },
  {
   "cell_type": "code",
   "execution_count": null,
   "id": "9ca06cec-e7fa-4858-8dcb-d20637ef1f01",
   "metadata": {},
   "outputs": [],
   "source": []
  },
  {
   "cell_type": "code",
   "execution_count": null,
   "id": "d844a7b6-cd9b-497b-80fc-d431c862826e",
   "metadata": {},
   "outputs": [],
   "source": []
  }
 ],
 "metadata": {
  "kernelspec": {
   "display_name": "Python 3",
   "language": "python",
   "name": "python3"
  },
  "language_info": {
   "codemirror_mode": {
    "name": "ipython",
    "version": 3
   },
   "file_extension": ".py",
   "mimetype": "text/x-python",
   "name": "python",
   "nbconvert_exporter": "python",
   "pygments_lexer": "ipython3",
   "version": "3.12.5"
  }
 },
 "nbformat": 4,
 "nbformat_minor": 5
}
